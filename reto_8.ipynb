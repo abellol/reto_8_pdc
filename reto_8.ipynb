{
 "cells": [
  {
   "cell_type": "markdown",
   "metadata": {},
   "source": [
    "### Ejercicio 1\n",
    "#### Imprimir un listado con los números del 1 al 100 cada uno con su respectivo cuadrado."
   ]
  },
  {
   "cell_type": "code",
   "execution_count": null,
   "metadata": {},
   "outputs": [],
   "source": [
    "if __name__  == \"__main__\":\n",
    "  for num in range (1, 101, 1): # Genera la secuencia [1, 2, ..., 99, 100]\n",
    "      x = num ** 2  # eleva cada numero de la secuencia al cuadrado\n",
    "      print (f\"{num}^2 = {x}\") # imprime \"num ^ 2 = x\""
   ]
  },
  {
   "cell_type": "markdown",
   "metadata": {},
   "source": [
    "### Ejercicio 2\n",
    "#### Imprimir un listado con los números impares desde 1 hasta 999 y seguidamente otro listado con los números pares desde 2 hasta 1000."
   ]
  },
  {
   "cell_type": "code",
   "execution_count": null,
   "metadata": {},
   "outputs": [],
   "source": [
    "def impar (n : int): # se define la funcion que imprime los valores impares de 1 hasta n\n",
    "    print (\"Impares\")   \n",
    "    for i in range(1, n+1):\n",
    "        if i % 2 == 0: # evalua si es par\n",
    "            continue # si es par, solo pasa al siguiente numero\n",
    "        else: \n",
    "            print (i) #imprime los impares dentro de la secuencia [1, 2, ..., n-1, n]\n",
    "\n",
    "def par (n : int): # se define la funcion que imprime los valores pares de 1 hasta n\n",
    "    print (\"Pares\")       \n",
    "    for i in range (1, n+1):\n",
    "        if i % 2 != 0: # evalua si es impar\n",
    "            continue # si es impar, solo pasa al siguiente numero\n",
    "        else: \n",
    "            print (i) #imprime los pares dentro de la secuencia [1, 2, ..., n-1, n]\n",
    "             \n",
    "if __name__ == \"__main__\":\n",
    "    n : int = 1000 # se declara e inicializa la variable n = 1000\n",
    "    x = impar(n) # Mostrará los impares de 1 a 1000\n",
    "    y = par(n) # Mostrará los pares de 1 a 1000\n",
    "    print (x, y) # se imprimen ambas funciones"
   ]
  },
  {
   "cell_type": "markdown",
   "metadata": {},
   "source": [
    "### Ejercicio 3\n",
    "#### Imprimir los números pares en forma descendente hasta 2 que son menores o iguales a un número natural n ≥ 2 dado"
   ]
  },
  {
   "cell_type": "code",
   "execution_count": null,
   "metadata": {},
   "outputs": [],
   "source": [
    "if __name__ == \"__main__\":\n",
    "    n = int(input(\"Ingrese un numero mayor o igual que 2:  \")) # se ingresa un numero mayor que 2 \n",
    "    while n <= 2:\n",
    "        n = int(input(\"el numero ingresado es menor, ingrese un numero mayor o igual que 2:  \")) # Un bucle que verifica que el numero n siempre sea mayor que 2\n",
    "    if n%2==0: # En caso de ser par, \n",
    "        for nums in range (n, 1, -2): # se descompone en pares restando 2\n",
    "            print (nums) #se muestra cada valor que se obtiene\n",
    "    else: # en caso de ser impar, \n",
    "        for nums in range (n-1, 1, -2): # Se le resta uno al número y empiza a descomponer restando 2\n",
    "            print(nums) # Imprime cada valor que se obtiene"
   ]
  },
  {
   "cell_type": "markdown",
   "metadata": {},
   "source": [
    "### Ejercicio 4\n",
    "#### Imprimir los números de 1 hasta un número natural n dado, cada uno con su respectivo factorial"
   ]
  },
  {
   "cell_type": "code",
   "execution_count": null,
   "metadata": {},
   "outputs": [],
   "source": [
    "x: int = 1 # Se establece una variable que cambia con cada paso, en este caso 1 ya que es coel módulo de la multiplicación\n",
    "if __name__ == \"__main__\":\n",
    "    n = int(input(\"ingrese un numero para hallar su factorial:  \")) #Se ingresa el numero n deseado para hallar sus factoriales desde 1\n",
    "    for num in range (1, n+1, 1): # para cada numero de 1 hasta n,\n",
    "        x=x*num # se halla cada factorial y se guarda para calcular el siguiente valor.\n",
    "        print(f\"{num}! = {x}\") # imprime cada factorial de la forma \"num! = x \""
   ]
  },
  {
   "cell_type": "markdown",
   "metadata": {},
   "source": [
    "### Ejercicio  5\n",
    "#### Calcular el valor de 2 elevado a la potencia n usando ciclos for."
   ]
  },
  {
   "cell_type": "code",
   "execution_count": null,
   "metadata": {},
   "outputs": [],
   "source": [
    "resultado : int = 1 # Se establece una variable que cambia con cada paso, en este caso 1 ya que es el módulo de la multiplicación\n",
    "if __name__ == \"__main__\":\n",
    "    exp = int(input(\"Ingrese un exponente para la base 2:  \")) # se ingresa el exponente (entero)\n",
    "    if exp > 0: # si el exponente es mayor que 0,\n",
    "        for i in range (1, exp+1, 1): # para cada numero de 1 hasta exponente\n",
    "            resultado *=2 # actualiza la variable resultado al multiplicar el resultado inicial (1) por  2, i veces\n",
    "        print(f\"2 ^ {i} = {resultado}\") # imprimir el resultado de la forma : \"2 ^ i = resultado\"\n",
    "    elif exp < 0: # si el exponente es menor que 0,\n",
    "        for i in range (1, (-exp+1), 1): # para cada numero de 1 hasta exponente\n",
    "            resultado *= 2 # actualiza la variable resultado al multiplicar el resultado inicial (1) por  2, i veces\n",
    "            pot_neg = 1 / resultado # al ser potencia negativa, es multiplicar hace el inverso que queda como 1/2^i y queda en la variable pot_neg\n",
    "        print(f\"2 ^ {-i} = {pot_neg}\") # imprimir el resultado de la forma : \"2 ^ -i = pot neg\"\n",
    "    else: # si el exponente es igual a 0, retorna:\n",
    "        print ( \"2 ^ 0 = 1\")"
   ]
  },
  {
   "cell_type": "markdown",
   "metadata": {},
   "source": [
    "### Ejercicio 6\n",
    "#### Leer un número natural n, leer otro dato de tipo real x y calcular x^n usando ciclos for. Disclaimer: Trate de no utilizar el operador de potencia (**)."
   ]
  },
  {
   "cell_type": "code",
   "execution_count": null,
   "metadata": {},
   "outputs": [],
   "source": [
    "resultado : int = 1 # Se establece una variable que cambia con cada paso, en este caso 1 ya que es el módulo de la multiplicación\n",
    "if __name__ == \"__main__\":\n",
    "    x = float (input(\"ingrese la base de la expresion:  \")) # se ingresa la base de la expresión (real)\n",
    "    n = int(input(\"ingrese el exponente de la expresion:  \")) # Se ingresa el exponente de la expresión (entero)\n",
    "    if n < 0: # si el exponente es menor que 0,\n",
    "        for i in range (1, -n+1, 1): # para cada numero de 1 hasta exponente\n",
    "            resultado *= x  # actualiza la variable resultado al multiplicar el resultado inicial (1) por  2, i veces\n",
    "            pot_neg = 1 / resultado # al ser potencia negativa, es multiplicar hace el inverso que queda como 1/2^i y queda en la variable pot_neg\n",
    "        print(f\"{x} ^ {-i} = {pot_neg}\") # imprimir el resultado de la forma : \"2 ^ -i = pot neg\"\n",
    "    elif n > 0: # si el exponente es mayor que 0,\n",
    "        for i in range (1, n+1, 1): # para cada numero de 1 hasta exponente\n",
    "            resultado *= x # actualiza la variable resultado al multiplicar el resultado inicial (1) por  x, i veces\n",
    "        print(f\"{x} ^ {i} = {resultado}\") # imprimir el resultado de la forma : \"2 ^ i = resultado\"\n",
    "    else: # si el exponente es igual a 0, retorna:\n",
    "        print(f\"{x} ^ 0 = 1\")"
   ]
  },
  {
   "cell_type": "markdown",
   "metadata": {},
   "source": [
    "### Ejercicio 7\n",
    "#### Diseñe un programa que muestre las tablas de multiplicar del 1 al 9."
   ]
  },
  {
   "cell_type": "code",
   "execution_count": null,
   "metadata": {},
   "outputs": [],
   "source": [
    "if __name__ == \"__main__\":\n",
    "    for i in range (1, 10, 1): #para cada elemento i de la secuencia de  1 a 9\n",
    "        print (f\"Tabla del {i}\") # imprimir \"tabla del \"i\"\"\n",
    "        for j in range (1, 11, 1): # para cada elemento j dentro de la secuencia 1 a 10\n",
    "            num = i  * j # la variable num = i * j y se actualiza en cada paso\n",
    "            print(f\"{i} * {j} = {num}\")  # retorna \"i * j = num\""
   ]
  },
  {
   "cell_type": "markdown",
   "metadata": {},
   "source": [
    "### Ejercicio 8 \n",
    "#### Diseñar una función que permita calcular una aproximación de la función exponencial alrededor de 0 para cualquier valor x (real), utilizando los primeros n términos de la serie de Maclaurin. Nota: use math para traer la función exponencial y mostrar la diferencia entre el valor real y la aproximación."
   ]
  },
  {
   "cell_type": "code",
   "execution_count": null,
   "metadata": {},
   "outputs": [],
   "source": [
    "import math # se importa la libreria math \n",
    "def exponencial_aproximada(x : int, n : int) -> float: # se define la función exponencial \n",
    "    suma : float = 0 # se establece la variable que guardará la suma de los términos, inicia en 0 porque es el módulo de la suma\n",
    "    for i in range (0,n+1): # para cada numero en la secuencia de 0 a n,\n",
    "        nume = (x**i) # se establece la variable numerador que es igual a x ** i\n",
    "        deno = 1 # la variable denominador empieza en 1, que es el módulo de la multiplicación\n",
    "        for num in range (1, i+1): # para cada numero dentro de la secuencia de 1 a i,\n",
    "            deno *= num # el denominador es igual a denominador por cada numero de la secuencia \n",
    "        termino = nume/deno # el termino es igual al cociente entre numerador y denominador \n",
    "        suma += termino # la suma es igual al termino, y se va sumando con cada paso\n",
    "    return suma # retorna el valor final de la suma \n",
    "def margen_error(real : float, aprox : float) -> float: # defina la función del margen de error\n",
    "    error : float = (abs(real - aprox)/real) *100 # el error es igual a :\n",
    "    return error # retorna el valor del error \n",
    "\n",
    "if __name__ == \"__main__\":\n",
    "    x = int(input(\"Ingrese un numero para que sea el exponente de la función:  \")) # Se ingresa el valor de la función y se almacena en la variable x\n",
    "    porcentaje_error = float(input(\"Ingrese el porcentaje de error al que desea aproximarse (sin el %):  \")) # Se ingresa el porcentaje de error que se desea calcular en la variable porcentaje_error\n",
    "    real= math.exp(x) # se calcula el valor real de la función \n",
    "    bandera: float = True # Se define la variable bandera, inicializada en True\n",
    "    while bandera: \n",
    "        for i in range (1, 10001): # para cada valor de la secuencia de 1 a 10000\n",
    "            aprox = exponencial_aproximada(x, i) # se usa la función exponencial_aproximada, como argumento la variable x e i\n",
    "            error = margen_error(real, aprox) # calcula el margen de error entre la funcion real y la aproximada\n",
    "            if error < porcentaje_error: # si el error calculado es menor al esperado, \n",
    "                print(f\"el valor estimado de la funcion e ^ {x} = {aprox}\")  # imprime el valor estimado de la función\n",
    "                print(f\"el valor real de la funcion e ^ {x} = {real}\")  # Imprime el valor real de la función\n",
    "                print (f\"al sumar {i} terminos de la serie, el error es del {error}% y es menor al {porcentaje_error}%\") # imprime el numero de sumas de la serie que debe ejecutar para ser menor al porcentaje ingresado\n",
    "                bandera = False #establece la bandera como false\n",
    "                break #  rompe el ciclo\n",
    "            else: \n",
    "                continue"
   ]
  },
  {
   "cell_type": "markdown",
   "metadata": {},
   "source": [
    "### Ejercicio 9\n",
    "#### Diseñar una función que permita calcular una aproximación de la función seno alrededor de 0 para cualquier valor x (real), utilizando los primeros n términos de la serie de Maclaurin. Nota: use math para traer la función seno y mostrar la diferencia entre el valor real y la aproximación."
   ]
  },
  {
   "cell_type": "code",
   "execution_count": null,
   "metadata": {},
   "outputs": [],
   "source": [
    "import math # se importa la libreria math\n",
    "def seno_aproximada(x : float, n : int) -> float: # se define la función seno\n",
    "    suma : float = 0 # se establece la variable que guardará la suma de los términos, inicia en 0 porque es el módulo de la suma\n",
    "    for i in range (0,n+1): # para cada numero en la secuencia de 0 a n,\n",
    "        arg = 2 * i + 1 # se define la variable arg, que es un termino de todo el polinomio que se debe resolver\n",
    "        num = (-1)**i *(x**(arg)) # Se define la variable del numerador \n",
    "        deno = 1  # la variable denominador empieza en 1, que es el módulo de la multiplicación\n",
    "        for j in range (1, arg + 1):  # para cada numero dentro de la secuencia de 1 a arg + 1,\n",
    "            deno *= j #  el denominador es igual a denominador por cada numero de la secuencia \n",
    "        termino = num/ deno # el termino es igual al cociente entre numerador y denominador \n",
    "        suma += termino # la suma es igual al termino, y se va sumando con cada paso\n",
    "    return suma   # retorna el valor final de la suma \n",
    "def margen_error(real : float, aprox : float) -> float:  # defina la función del margen de error\n",
    "    if real == 0: # si real es igual a 0\n",
    "        return 0 # retorna 0\n",
    "    numerador = (abs(real - aprox)) # define la variable numerador, siendo la difernecia entre real y aproximado\n",
    "    denominador = real # define la variable denominador con el valor de la función real\n",
    "    error : float = numerador/denominador * 100 # la variable error es el valor del cociente entre las dos variables anteriores, multiplicado por 100\n",
    "    if denominador > 0: # Si el denominador es mayor que 0,\n",
    "        return error # retorna el valor original del error\n",
    "    elif denominador < 0: # si el denominador es menor que 0,\n",
    "       return -error # retorna el error multiplicado por -1 (cambio de signo)\n",
    "if __name__ == \"__main__\":    \n",
    "    x = float(input(\"Ingrese un numero para calcular la función:  \")) #  Se ingresa el valor de la función y se almacena en la variable x\n",
    "    porcentaje_error = float(input(\"Ingrese el porcentaje de error al que desea aproximarse (sin el %):  \")) # Se ingresa el porcentaje de error que se desea calcular en la variable porcentaje_error\n",
    "    real= math.sin(x) # se calcula el valor real de la función \n",
    "    bandera = True  # Se define la variable bandera, inicializada en True\n",
    "    while bandera: \n",
    "        for i in range (1, 10001): # para cada valor de la secuencia de 1 a 10000\n",
    "            aprox = seno_aproximada(x, i)  # se usa la función exponencial_aproximada, como argumento la variable x e i\n",
    "            error = margen_error(real, aprox) # calcula el margen de error entre la funcion real y la aproximada\n",
    "            if error < porcentaje_error: # si el error calculado es menor al esperado, \n",
    "                print(f\"el valor estimado de la funcion sin({x}) = {aprox}\") # imprime el valor estimado de la función\n",
    "                print(f\"el valor real de la funcion sin({x}) = {real}\")  # Imprime el valor real de la función\n",
    "                print (f\"al sumar {i} terminos de la serie, el error es del {error}% y es menor al {porcentaje_error}%\") # imprime el numero de sumas de la serie que debe ejecutar para ser menor al porcentaje ingresado\n",
    "                bandera = False #establece la bandera como false\n",
    "                break  # rompe el ciclo\n",
    "            else:\n",
    "                continue"
   ]
  },
  {
   "cell_type": "markdown",
   "metadata": {},
   "source": [
    "### Ejercicio 10\n",
    "#### Diseñar una función que permita calcular una aproximación de la función arcotangente alrededor de 0 para cualquier valor x en el rango [-1, 1], utilizando los primeros n términos de la serie de Maclaurin. Nota: use math para traer la función arctan y mostrar la diferencia entre el valor real y la aproximación."
   ]
  },
  {
   "cell_type": "code",
   "execution_count": null,
   "metadata": {},
   "outputs": [],
   "source": [
    "import math # se importa la libreria math\n",
    "def arctan_aproximada(x : float, n: int) -> float: # se define la función arctan\n",
    "        suma : float = 0 # se establece la variable que guardará la suma de los términos, inicia en 0 porque es el módulo de la suma\n",
    "        for i in range (0,n+1):  # para cada numero en la secuencia de 0 a n,\n",
    "            termino = (-1)**i * ((x**(2 * i + 1)/(2 * i + 1)))  #el termino es igual a :\n",
    "            suma += termino # el valor del termino se va sumando en la variable suma\n",
    "        return suma # retorna el valor final de suma\n",
    "def margen_error(real : float, aprox : float) -> float:   # defina la función del margen de error\n",
    "    if real == 0: # si real es igual a 0, \n",
    "        return 0 # retorna 0\n",
    "    numerador = (abs(real - aprox))  # el numerador es igual al valor absoluto de la dferencia entre el valor real y aproximado de la función\n",
    "    denominador = real # variable denominador toma el valor de la variable del valor de la funcion real \n",
    "    error : float = numerador / denominador * 100 # la variable error es igual al cociente entre numerador y denominador\n",
    "    if denominador > 0: # si el denominador es mayor que 0,\n",
    "        return error # retorna el valor de error \n",
    "    elif denominador < 0: # Si el denominador es menor que 0, \n",
    "       return -error # retorna el error multiplicado por -1 (cambio de signo)\n",
    "  \n",
    "if __name__ == \"__main__\":    \n",
    "    x = float(input(\"Ingrese un numero para calcular la función:  \")) #  Se ingresa el valor de la función y se almacena en la variable x\n",
    "    while x < -1 or x > 1: # un bucle verifica que el valor esté dentro del rango\n",
    "        x= float(input(\"el valor no está dentro del rango esperado, intente de nuevo:  \"))\n",
    "    porcentaje_error = float(input(\"Ingrese el porcentaje de error al que desea aproximarse (sin el %):  \")) # Se ingresa el porcentaje de error que se desea calcular en la variable porcentaje_error\n",
    "    real= math.atan(x)  # se calcula el valor real de la función\n",
    "    bandera = True   # Se define la variable bandera, inicializada en True\n",
    "    while bandera: \n",
    "        for i in range (1, 10001):  # para cada valor de la secuencia de 1 a 10000\n",
    "            aprox = arctan_aproximada(x, i) # se usa la función exponencial_aproximada, como argumento las variables x e i\n",
    "            error = margen_error(real, aprox) #  calcula el margen de error entre la funcion real y la aproximada\n",
    "            if error < porcentaje_error:  # si el error calculado es menor al esperado,\n",
    "                print(f\"el valor estimado de la funcion arctan({x}) = {aprox}\") # imprime el valor estimado de la función\n",
    "                print(f\"el valor real de la funcion arctan({x}) = {real}\") # Imprime el valor real de la función\n",
    "                print (f\"al sumar {i} terminos de la serie, el error es del {error}% y es menor al {porcentaje_error}%\") # imprime el numero de sumas de la serie que debe ejecutar para ser menor al porcentaje ingresado\n",
    "                bandera = False   #establece la bandera como false\n",
    "                break # rompe el ciclo\n",
    "            else:\n",
    "                continue"
   ]
  }
 ],
 "metadata": {
  "kernelspec": {
   "display_name": "Python 3",
   "language": "python",
   "name": "python3"
  },
  "language_info": {
   "codemirror_mode": {
    "name": "ipython",
    "version": 3
   },
   "file_extension": ".py",
   "mimetype": "text/x-python",
   "name": "python",
   "nbconvert_exporter": "python",
   "pygments_lexer": "ipython3",
   "version": "3.11.8"
  }
 },
 "nbformat": 4,
 "nbformat_minor": 2
}
